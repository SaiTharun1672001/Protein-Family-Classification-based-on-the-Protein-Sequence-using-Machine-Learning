{
  "nbformat": 4,
  "nbformat_minor": 0,
  "metadata": {
    "colab": {
      "name": "Team Avengers_16_58_64(Biology And ML Code).ipynb",
      "provenance": [],
      "collapsed_sections": []
    },
    "kernelspec": {
      "name": "python3",
      "display_name": "Python 3"
    },
    "language_info": {
      "name": "python"
    }
  },
  "cells": [
    {
      "cell_type": "code",
      "metadata": {
        "id": "EJTnTfiUgKjk"
      },
      "source": [
        "# Import Libraries\n",
        "\n",
        "import pandas as pd\n",
        "import numpy as np\n",
        "from sklearn.feature_extraction.text import CountVectorizer\n",
        "from sklearn.model_selection import train_test_split\n",
        "from sklearn.metrics import accuracy_score, confusion_matrix, classification_report"
      ],
      "execution_count": 4,
      "outputs": []
    },
    {
      "cell_type": "code",
      "metadata": {
        "id": "p5Jkzq98N3La"
      },
      "source": [
        "# Import Datasets\n",
        "df_char = pd.read_csv('pdb_data_no_dups.csv')\n",
        "df_seq = pd.read_csv('pdb_data_seq.csv')"
      ],
      "execution_count": 5,
      "outputs": []
    },
    {
      "cell_type": "code",
      "metadata": {
        "colab": {
          "base_uri": "https://localhost:8080/",
          "height": 474
        },
        "id": "Va9AI3MsOGm4",
        "outputId": "89328c5c-4b7c-48f3-bd19-788709c74a95"
      },
      "source": [
        "#printing the first five rows of the no_dups dataset\n",
        "df_char.head()"
      ],
      "execution_count": 6,
      "outputs": [
        {
          "output_type": "execute_result",
          "data": {
            "text/html": [
              "<div>\n",
              "<style scoped>\n",
              "    .dataframe tbody tr th:only-of-type {\n",
              "        vertical-align: middle;\n",
              "    }\n",
              "\n",
              "    .dataframe tbody tr th {\n",
              "        vertical-align: top;\n",
              "    }\n",
              "\n",
              "    .dataframe thead th {\n",
              "        text-align: right;\n",
              "    }\n",
              "</style>\n",
              "<table border=\"1\" class=\"dataframe\">\n",
              "  <thead>\n",
              "    <tr style=\"text-align: right;\">\n",
              "      <th></th>\n",
              "      <th>structureId</th>\n",
              "      <th>classification</th>\n",
              "      <th>experimentalTechnique</th>\n",
              "      <th>macromoleculeType</th>\n",
              "      <th>residueCount</th>\n",
              "      <th>resolution</th>\n",
              "      <th>structureMolecularWeight</th>\n",
              "      <th>crystallizationMethod</th>\n",
              "      <th>crystallizationTempK</th>\n",
              "      <th>densityMatthews</th>\n",
              "      <th>densityPercentSol</th>\n",
              "      <th>pdbxDetails</th>\n",
              "      <th>phValue</th>\n",
              "      <th>publicationYear</th>\n",
              "    </tr>\n",
              "  </thead>\n",
              "  <tbody>\n",
              "    <tr>\n",
              "      <th>0</th>\n",
              "      <td>100D</td>\n",
              "      <td>DNA-RNA HYBRID</td>\n",
              "      <td>X-RAY DIFFRACTION</td>\n",
              "      <td>DNA/RNA Hybrid</td>\n",
              "      <td>20</td>\n",
              "      <td>1.90</td>\n",
              "      <td>6360.30</td>\n",
              "      <td>VAPOR DIFFUSION, HANGING DROP</td>\n",
              "      <td>NaN</td>\n",
              "      <td>1.78</td>\n",
              "      <td>30.89</td>\n",
              "      <td>pH 7.00, VAPOR DIFFUSION, HANGING DROP</td>\n",
              "      <td>7.0</td>\n",
              "      <td>1994.0</td>\n",
              "    </tr>\n",
              "    <tr>\n",
              "      <th>1</th>\n",
              "      <td>101D</td>\n",
              "      <td>DNA</td>\n",
              "      <td>X-RAY DIFFRACTION</td>\n",
              "      <td>DNA</td>\n",
              "      <td>24</td>\n",
              "      <td>2.25</td>\n",
              "      <td>7939.35</td>\n",
              "      <td>NaN</td>\n",
              "      <td>NaN</td>\n",
              "      <td>2.00</td>\n",
              "      <td>38.45</td>\n",
              "      <td>NaN</td>\n",
              "      <td>NaN</td>\n",
              "      <td>1995.0</td>\n",
              "    </tr>\n",
              "    <tr>\n",
              "      <th>2</th>\n",
              "      <td>101M</td>\n",
              "      <td>OXYGEN TRANSPORT</td>\n",
              "      <td>X-RAY DIFFRACTION</td>\n",
              "      <td>Protein</td>\n",
              "      <td>154</td>\n",
              "      <td>2.07</td>\n",
              "      <td>18112.80</td>\n",
              "      <td>NaN</td>\n",
              "      <td>NaN</td>\n",
              "      <td>3.09</td>\n",
              "      <td>60.20</td>\n",
              "      <td>3.0 M AMMONIUM SULFATE, 20 MM TRIS, 1MM EDTA, ...</td>\n",
              "      <td>9.0</td>\n",
              "      <td>1999.0</td>\n",
              "    </tr>\n",
              "    <tr>\n",
              "      <th>3</th>\n",
              "      <td>102D</td>\n",
              "      <td>DNA</td>\n",
              "      <td>X-RAY DIFFRACTION</td>\n",
              "      <td>DNA</td>\n",
              "      <td>24</td>\n",
              "      <td>2.20</td>\n",
              "      <td>7637.17</td>\n",
              "      <td>VAPOR DIFFUSION, SITTING DROP</td>\n",
              "      <td>277.0</td>\n",
              "      <td>2.28</td>\n",
              "      <td>46.06</td>\n",
              "      <td>pH 7.00, VAPOR DIFFUSION, SITTING DROP, temper...</td>\n",
              "      <td>7.0</td>\n",
              "      <td>1995.0</td>\n",
              "    </tr>\n",
              "    <tr>\n",
              "      <th>4</th>\n",
              "      <td>102L</td>\n",
              "      <td>HYDROLASE(O-GLYCOSYL)</td>\n",
              "      <td>X-RAY DIFFRACTION</td>\n",
              "      <td>Protein</td>\n",
              "      <td>165</td>\n",
              "      <td>1.74</td>\n",
              "      <td>18926.61</td>\n",
              "      <td>NaN</td>\n",
              "      <td>NaN</td>\n",
              "      <td>2.75</td>\n",
              "      <td>55.28</td>\n",
              "      <td>NaN</td>\n",
              "      <td>NaN</td>\n",
              "      <td>1993.0</td>\n",
              "    </tr>\n",
              "  </tbody>\n",
              "</table>\n",
              "</div>"
            ],
            "text/plain": [
              "  structureId         classification  ... phValue publicationYear\n",
              "0        100D         DNA-RNA HYBRID  ...     7.0          1994.0\n",
              "1        101D                    DNA  ...     NaN          1995.0\n",
              "2        101M       OXYGEN TRANSPORT  ...     9.0          1999.0\n",
              "3        102D                    DNA  ...     7.0          1995.0\n",
              "4        102L  HYDROLASE(O-GLYCOSYL)  ...     NaN          1993.0\n",
              "\n",
              "[5 rows x 14 columns]"
            ]
          },
          "metadata": {
            "tags": []
          },
          "execution_count": 6
        }
      ]
    },
    {
      "cell_type": "code",
      "metadata": {
        "colab": {
          "base_uri": "https://localhost:8080/",
          "height": 199
        },
        "id": "8k4FEqVKN9z-",
        "outputId": "ee7dd60e-ec89-443e-868a-fccafe024961"
      },
      "source": [
        "#printing the first five rows of the seq dataset\n",
        "df_seq.head()"
      ],
      "execution_count": 7,
      "outputs": [
        {
          "output_type": "execute_result",
          "data": {
            "text/html": [
              "<div>\n",
              "<style scoped>\n",
              "    .dataframe tbody tr th:only-of-type {\n",
              "        vertical-align: middle;\n",
              "    }\n",
              "\n",
              "    .dataframe tbody tr th {\n",
              "        vertical-align: top;\n",
              "    }\n",
              "\n",
              "    .dataframe thead th {\n",
              "        text-align: right;\n",
              "    }\n",
              "</style>\n",
              "<table border=\"1\" class=\"dataframe\">\n",
              "  <thead>\n",
              "    <tr style=\"text-align: right;\">\n",
              "      <th></th>\n",
              "      <th>structureId</th>\n",
              "      <th>chainId</th>\n",
              "      <th>sequence</th>\n",
              "      <th>residueCount</th>\n",
              "      <th>macromoleculeType</th>\n",
              "    </tr>\n",
              "  </thead>\n",
              "  <tbody>\n",
              "    <tr>\n",
              "      <th>0</th>\n",
              "      <td>100D</td>\n",
              "      <td>A</td>\n",
              "      <td>CCGGCGCCGG</td>\n",
              "      <td>20</td>\n",
              "      <td>DNA/RNA Hybrid</td>\n",
              "    </tr>\n",
              "    <tr>\n",
              "      <th>1</th>\n",
              "      <td>100D</td>\n",
              "      <td>B</td>\n",
              "      <td>CCGGCGCCGG</td>\n",
              "      <td>20</td>\n",
              "      <td>DNA/RNA Hybrid</td>\n",
              "    </tr>\n",
              "    <tr>\n",
              "      <th>2</th>\n",
              "      <td>101D</td>\n",
              "      <td>A</td>\n",
              "      <td>CGCGAATTCGCG</td>\n",
              "      <td>24</td>\n",
              "      <td>DNA</td>\n",
              "    </tr>\n",
              "    <tr>\n",
              "      <th>3</th>\n",
              "      <td>101D</td>\n",
              "      <td>B</td>\n",
              "      <td>CGCGAATTCGCG</td>\n",
              "      <td>24</td>\n",
              "      <td>DNA</td>\n",
              "    </tr>\n",
              "    <tr>\n",
              "      <th>4</th>\n",
              "      <td>101M</td>\n",
              "      <td>A</td>\n",
              "      <td>MVLSEGEWQLVLHVWAKVEADVAGHGQDILIRLFKSHPETLEKFDR...</td>\n",
              "      <td>154</td>\n",
              "      <td>Protein</td>\n",
              "    </tr>\n",
              "  </tbody>\n",
              "</table>\n",
              "</div>"
            ],
            "text/plain": [
              "  structureId chainId  ... residueCount  macromoleculeType\n",
              "0        100D       A  ...           20     DNA/RNA Hybrid\n",
              "1        100D       B  ...           20     DNA/RNA Hybrid\n",
              "2        101D       A  ...           24                DNA\n",
              "3        101D       B  ...           24                DNA\n",
              "4        101M       A  ...          154            Protein\n",
              "\n",
              "[5 rows x 5 columns]"
            ]
          },
          "metadata": {
            "tags": []
          },
          "execution_count": 7
        }
      ]
    },
    {
      "cell_type": "code",
      "metadata": {
        "id": "aBu99FsLOP8v"
      },
      "source": [
        "#Filter and Process Dataset\n",
        "\n",
        "# Filter for only proteins\n",
        "protein_char = df_char[df_char.macromoleculeType == 'Protein']\n",
        "protein_seq = df_seq[df_seq.macromoleculeType == 'Protein']"
      ],
      "execution_count": 8,
      "outputs": []
    },
    {
      "cell_type": "code",
      "metadata": {
        "colab": {
          "base_uri": "https://localhost:8080/",
          "height": 508
        },
        "id": "dFCIJGi9OVgl",
        "outputId": "cebd4ab8-9387-4ec6-ab2c-79f08ac8b537"
      },
      "source": [
        "#printing the first five rows of the protein_char\n",
        "protein_char.head()"
      ],
      "execution_count": 9,
      "outputs": [
        {
          "output_type": "execute_result",
          "data": {
            "text/html": [
              "<div>\n",
              "<style scoped>\n",
              "    .dataframe tbody tr th:only-of-type {\n",
              "        vertical-align: middle;\n",
              "    }\n",
              "\n",
              "    .dataframe tbody tr th {\n",
              "        vertical-align: top;\n",
              "    }\n",
              "\n",
              "    .dataframe thead th {\n",
              "        text-align: right;\n",
              "    }\n",
              "</style>\n",
              "<table border=\"1\" class=\"dataframe\">\n",
              "  <thead>\n",
              "    <tr style=\"text-align: right;\">\n",
              "      <th></th>\n",
              "      <th>structureId</th>\n",
              "      <th>classification</th>\n",
              "      <th>experimentalTechnique</th>\n",
              "      <th>macromoleculeType</th>\n",
              "      <th>residueCount</th>\n",
              "      <th>resolution</th>\n",
              "      <th>structureMolecularWeight</th>\n",
              "      <th>crystallizationMethod</th>\n",
              "      <th>crystallizationTempK</th>\n",
              "      <th>densityMatthews</th>\n",
              "      <th>densityPercentSol</th>\n",
              "      <th>pdbxDetails</th>\n",
              "      <th>phValue</th>\n",
              "      <th>publicationYear</th>\n",
              "    </tr>\n",
              "  </thead>\n",
              "  <tbody>\n",
              "    <tr>\n",
              "      <th>2</th>\n",
              "      <td>101M</td>\n",
              "      <td>OXYGEN TRANSPORT</td>\n",
              "      <td>X-RAY DIFFRACTION</td>\n",
              "      <td>Protein</td>\n",
              "      <td>154</td>\n",
              "      <td>2.07</td>\n",
              "      <td>18112.80</td>\n",
              "      <td>NaN</td>\n",
              "      <td>NaN</td>\n",
              "      <td>3.09</td>\n",
              "      <td>60.20</td>\n",
              "      <td>3.0 M AMMONIUM SULFATE, 20 MM TRIS, 1MM EDTA, ...</td>\n",
              "      <td>9.0</td>\n",
              "      <td>1999.0</td>\n",
              "    </tr>\n",
              "    <tr>\n",
              "      <th>4</th>\n",
              "      <td>102L</td>\n",
              "      <td>HYDROLASE(O-GLYCOSYL)</td>\n",
              "      <td>X-RAY DIFFRACTION</td>\n",
              "      <td>Protein</td>\n",
              "      <td>165</td>\n",
              "      <td>1.74</td>\n",
              "      <td>18926.61</td>\n",
              "      <td>NaN</td>\n",
              "      <td>NaN</td>\n",
              "      <td>2.75</td>\n",
              "      <td>55.28</td>\n",
              "      <td>NaN</td>\n",
              "      <td>NaN</td>\n",
              "      <td>1993.0</td>\n",
              "    </tr>\n",
              "    <tr>\n",
              "      <th>5</th>\n",
              "      <td>102M</td>\n",
              "      <td>OXYGEN TRANSPORT</td>\n",
              "      <td>X-RAY DIFFRACTION</td>\n",
              "      <td>Protein</td>\n",
              "      <td>154</td>\n",
              "      <td>1.84</td>\n",
              "      <td>18010.64</td>\n",
              "      <td>NaN</td>\n",
              "      <td>NaN</td>\n",
              "      <td>3.09</td>\n",
              "      <td>60.20</td>\n",
              "      <td>3.0 M AMMONIUM SULFATE, 20 MM TRIS, 1MM EDTA, ...</td>\n",
              "      <td>9.0</td>\n",
              "      <td>1999.0</td>\n",
              "    </tr>\n",
              "    <tr>\n",
              "      <th>7</th>\n",
              "      <td>103L</td>\n",
              "      <td>HYDROLASE(O-GLYCOSYL)</td>\n",
              "      <td>X-RAY DIFFRACTION</td>\n",
              "      <td>Protein</td>\n",
              "      <td>167</td>\n",
              "      <td>1.90</td>\n",
              "      <td>19092.72</td>\n",
              "      <td>NaN</td>\n",
              "      <td>NaN</td>\n",
              "      <td>2.70</td>\n",
              "      <td>54.46</td>\n",
              "      <td>NaN</td>\n",
              "      <td>NaN</td>\n",
              "      <td>1993.0</td>\n",
              "    </tr>\n",
              "    <tr>\n",
              "      <th>8</th>\n",
              "      <td>103M</td>\n",
              "      <td>OXYGEN TRANSPORT</td>\n",
              "      <td>X-RAY DIFFRACTION</td>\n",
              "      <td>Protein</td>\n",
              "      <td>154</td>\n",
              "      <td>2.07</td>\n",
              "      <td>18093.78</td>\n",
              "      <td>NaN</td>\n",
              "      <td>NaN</td>\n",
              "      <td>3.09</td>\n",
              "      <td>60.30</td>\n",
              "      <td>3.0 M AMMONIUM SULFATE, 20 MM TRIS, 1MM EDTA, ...</td>\n",
              "      <td>9.0</td>\n",
              "      <td>1999.0</td>\n",
              "    </tr>\n",
              "  </tbody>\n",
              "</table>\n",
              "</div>"
            ],
            "text/plain": [
              "  structureId         classification  ... phValue publicationYear\n",
              "2        101M       OXYGEN TRANSPORT  ...     9.0          1999.0\n",
              "4        102L  HYDROLASE(O-GLYCOSYL)  ...     NaN          1993.0\n",
              "5        102M       OXYGEN TRANSPORT  ...     9.0          1999.0\n",
              "7        103L  HYDROLASE(O-GLYCOSYL)  ...     NaN          1993.0\n",
              "8        103M       OXYGEN TRANSPORT  ...     9.0          1999.0\n",
              "\n",
              "[5 rows x 14 columns]"
            ]
          },
          "metadata": {
            "tags": []
          },
          "execution_count": 9
        }
      ]
    },
    {
      "cell_type": "code",
      "metadata": {
        "colab": {
          "base_uri": "https://localhost:8080/",
          "height": 199
        },
        "id": "R8XACKRQOhmV",
        "outputId": "c83ac5f8-a3dd-4e6c-8d53-5772a293755f"
      },
      "source": [
        "#printing the first five rows of the protein_seq\n",
        "protein_seq.head()"
      ],
      "execution_count": 10,
      "outputs": [
        {
          "output_type": "execute_result",
          "data": {
            "text/html": [
              "<div>\n",
              "<style scoped>\n",
              "    .dataframe tbody tr th:only-of-type {\n",
              "        vertical-align: middle;\n",
              "    }\n",
              "\n",
              "    .dataframe tbody tr th {\n",
              "        vertical-align: top;\n",
              "    }\n",
              "\n",
              "    .dataframe thead th {\n",
              "        text-align: right;\n",
              "    }\n",
              "</style>\n",
              "<table border=\"1\" class=\"dataframe\">\n",
              "  <thead>\n",
              "    <tr style=\"text-align: right;\">\n",
              "      <th></th>\n",
              "      <th>structureId</th>\n",
              "      <th>chainId</th>\n",
              "      <th>sequence</th>\n",
              "      <th>residueCount</th>\n",
              "      <th>macromoleculeType</th>\n",
              "    </tr>\n",
              "  </thead>\n",
              "  <tbody>\n",
              "    <tr>\n",
              "      <th>4</th>\n",
              "      <td>101M</td>\n",
              "      <td>A</td>\n",
              "      <td>MVLSEGEWQLVLHVWAKVEADVAGHGQDILIRLFKSHPETLEKFDR...</td>\n",
              "      <td>154</td>\n",
              "      <td>Protein</td>\n",
              "    </tr>\n",
              "    <tr>\n",
              "      <th>7</th>\n",
              "      <td>102L</td>\n",
              "      <td>A</td>\n",
              "      <td>MNIFEMLRIDEGLRLKIYKDTEGYYTIGIGHLLTKSPSLNAAAKSE...</td>\n",
              "      <td>165</td>\n",
              "      <td>Protein</td>\n",
              "    </tr>\n",
              "    <tr>\n",
              "      <th>8</th>\n",
              "      <td>102M</td>\n",
              "      <td>A</td>\n",
              "      <td>MVLSEGEWQLVLHVWAKVEADVAGHGQDILIRLFKSHPETLEKFDR...</td>\n",
              "      <td>154</td>\n",
              "      <td>Protein</td>\n",
              "    </tr>\n",
              "    <tr>\n",
              "      <th>11</th>\n",
              "      <td>103L</td>\n",
              "      <td>A</td>\n",
              "      <td>MNIFEMLRIDEGLRLKIYKDTEGYYTIGIGHLLTKSPSLNSLDAAK...</td>\n",
              "      <td>167</td>\n",
              "      <td>Protein</td>\n",
              "    </tr>\n",
              "    <tr>\n",
              "      <th>12</th>\n",
              "      <td>103M</td>\n",
              "      <td>A</td>\n",
              "      <td>MVLSEGEWQLVLHVWAKVEADVAGHGQDILIRLFKSHPETLEKFDR...</td>\n",
              "      <td>154</td>\n",
              "      <td>Protein</td>\n",
              "    </tr>\n",
              "  </tbody>\n",
              "</table>\n",
              "</div>"
            ],
            "text/plain": [
              "   structureId chainId  ... residueCount  macromoleculeType\n",
              "4         101M       A  ...          154            Protein\n",
              "7         102L       A  ...          165            Protein\n",
              "8         102M       A  ...          154            Protein\n",
              "11        103L       A  ...          167            Protein\n",
              "12        103M       A  ...          154            Protein\n",
              "\n",
              "[5 rows x 5 columns]"
            ]
          },
          "metadata": {
            "tags": []
          },
          "execution_count": 10
        }
      ]
    },
    {
      "cell_type": "code",
      "metadata": {
        "colab": {
          "base_uri": "https://localhost:8080/",
          "height": 199
        },
        "id": "7KlrjAGoO2vg",
        "outputId": "8b701fb1-6079-425a-f3c4-9c17facd4292"
      },
      "source": [
        "# Select only necessary variables to join\n",
        "protein_char = protein_char[['structureId','classification']]\n",
        "protein_seq = protein_seq[['structureId','sequence']]\n",
        "protein_seq.head()"
      ],
      "execution_count": 11,
      "outputs": [
        {
          "output_type": "execute_result",
          "data": {
            "text/html": [
              "<div>\n",
              "<style scoped>\n",
              "    .dataframe tbody tr th:only-of-type {\n",
              "        vertical-align: middle;\n",
              "    }\n",
              "\n",
              "    .dataframe tbody tr th {\n",
              "        vertical-align: top;\n",
              "    }\n",
              "\n",
              "    .dataframe thead th {\n",
              "        text-align: right;\n",
              "    }\n",
              "</style>\n",
              "<table border=\"1\" class=\"dataframe\">\n",
              "  <thead>\n",
              "    <tr style=\"text-align: right;\">\n",
              "      <th></th>\n",
              "      <th>structureId</th>\n",
              "      <th>sequence</th>\n",
              "    </tr>\n",
              "  </thead>\n",
              "  <tbody>\n",
              "    <tr>\n",
              "      <th>4</th>\n",
              "      <td>101M</td>\n",
              "      <td>MVLSEGEWQLVLHVWAKVEADVAGHGQDILIRLFKSHPETLEKFDR...</td>\n",
              "    </tr>\n",
              "    <tr>\n",
              "      <th>7</th>\n",
              "      <td>102L</td>\n",
              "      <td>MNIFEMLRIDEGLRLKIYKDTEGYYTIGIGHLLTKSPSLNAAAKSE...</td>\n",
              "    </tr>\n",
              "    <tr>\n",
              "      <th>8</th>\n",
              "      <td>102M</td>\n",
              "      <td>MVLSEGEWQLVLHVWAKVEADVAGHGQDILIRLFKSHPETLEKFDR...</td>\n",
              "    </tr>\n",
              "    <tr>\n",
              "      <th>11</th>\n",
              "      <td>103L</td>\n",
              "      <td>MNIFEMLRIDEGLRLKIYKDTEGYYTIGIGHLLTKSPSLNSLDAAK...</td>\n",
              "    </tr>\n",
              "    <tr>\n",
              "      <th>12</th>\n",
              "      <td>103M</td>\n",
              "      <td>MVLSEGEWQLVLHVWAKVEADVAGHGQDILIRLFKSHPETLEKFDR...</td>\n",
              "    </tr>\n",
              "  </tbody>\n",
              "</table>\n",
              "</div>"
            ],
            "text/plain": [
              "   structureId                                           sequence\n",
              "4         101M  MVLSEGEWQLVLHVWAKVEADVAGHGQDILIRLFKSHPETLEKFDR...\n",
              "7         102L  MNIFEMLRIDEGLRLKIYKDTEGYYTIGIGHLLTKSPSLNAAAKSE...\n",
              "8         102M  MVLSEGEWQLVLHVWAKVEADVAGHGQDILIRLFKSHPETLEKFDR...\n",
              "11        103L  MNIFEMLRIDEGLRLKIYKDTEGYYTIGIGHLLTKSPSLNSLDAAK...\n",
              "12        103M  MVLSEGEWQLVLHVWAKVEADVAGHGQDILIRLFKSHPETLEKFDR..."
            ]
          },
          "metadata": {
            "tags": []
          },
          "execution_count": 11
        }
      ]
    },
    {
      "cell_type": "code",
      "metadata": {
        "colab": {
          "base_uri": "https://localhost:8080/",
          "height": 199
        },
        "id": "GwPrLU2TUc0q",
        "outputId": "6d2537a7-225e-4ff5-8ef1-9d96f0d9f9e1"
      },
      "source": [
        "#print the first five rows of protein_char\n",
        "protein_char.head()"
      ],
      "execution_count": 12,
      "outputs": [
        {
          "output_type": "execute_result",
          "data": {
            "text/html": [
              "<div>\n",
              "<style scoped>\n",
              "    .dataframe tbody tr th:only-of-type {\n",
              "        vertical-align: middle;\n",
              "    }\n",
              "\n",
              "    .dataframe tbody tr th {\n",
              "        vertical-align: top;\n",
              "    }\n",
              "\n",
              "    .dataframe thead th {\n",
              "        text-align: right;\n",
              "    }\n",
              "</style>\n",
              "<table border=\"1\" class=\"dataframe\">\n",
              "  <thead>\n",
              "    <tr style=\"text-align: right;\">\n",
              "      <th></th>\n",
              "      <th>structureId</th>\n",
              "      <th>classification</th>\n",
              "    </tr>\n",
              "  </thead>\n",
              "  <tbody>\n",
              "    <tr>\n",
              "      <th>2</th>\n",
              "      <td>101M</td>\n",
              "      <td>OXYGEN TRANSPORT</td>\n",
              "    </tr>\n",
              "    <tr>\n",
              "      <th>4</th>\n",
              "      <td>102L</td>\n",
              "      <td>HYDROLASE(O-GLYCOSYL)</td>\n",
              "    </tr>\n",
              "    <tr>\n",
              "      <th>5</th>\n",
              "      <td>102M</td>\n",
              "      <td>OXYGEN TRANSPORT</td>\n",
              "    </tr>\n",
              "    <tr>\n",
              "      <th>7</th>\n",
              "      <td>103L</td>\n",
              "      <td>HYDROLASE(O-GLYCOSYL)</td>\n",
              "    </tr>\n",
              "    <tr>\n",
              "      <th>8</th>\n",
              "      <td>103M</td>\n",
              "      <td>OXYGEN TRANSPORT</td>\n",
              "    </tr>\n",
              "  </tbody>\n",
              "</table>\n",
              "</div>"
            ],
            "text/plain": [
              "  structureId         classification\n",
              "2        101M       OXYGEN TRANSPORT\n",
              "4        102L  HYDROLASE(O-GLYCOSYL)\n",
              "5        102M       OXYGEN TRANSPORT\n",
              "7        103L  HYDROLASE(O-GLYCOSYL)\n",
              "8        103M       OXYGEN TRANSPORT"
            ]
          },
          "metadata": {
            "tags": []
          },
          "execution_count": 12
        }
      ]
    },
    {
      "cell_type": "code",
      "metadata": {
        "colab": {
          "base_uri": "https://localhost:8080/",
          "height": 230
        },
        "id": "vdacXGP5P-q3",
        "outputId": "90f330d9-8cbc-4a21-bfe3-0f2591bd196b"
      },
      "source": [
        "# Join two datasets on structureId\n",
        "model_f = protein_char.set_index('structureId').join(protein_seq.set_index('structureId'))\n",
        "model_f.head()"
      ],
      "execution_count": 13,
      "outputs": [
        {
          "output_type": "execute_result",
          "data": {
            "text/html": [
              "<div>\n",
              "<style scoped>\n",
              "    .dataframe tbody tr th:only-of-type {\n",
              "        vertical-align: middle;\n",
              "    }\n",
              "\n",
              "    .dataframe tbody tr th {\n",
              "        vertical-align: top;\n",
              "    }\n",
              "\n",
              "    .dataframe thead th {\n",
              "        text-align: right;\n",
              "    }\n",
              "</style>\n",
              "<table border=\"1\" class=\"dataframe\">\n",
              "  <thead>\n",
              "    <tr style=\"text-align: right;\">\n",
              "      <th></th>\n",
              "      <th>classification</th>\n",
              "      <th>sequence</th>\n",
              "    </tr>\n",
              "    <tr>\n",
              "      <th>structureId</th>\n",
              "      <th></th>\n",
              "      <th></th>\n",
              "    </tr>\n",
              "  </thead>\n",
              "  <tbody>\n",
              "    <tr>\n",
              "      <th>101M</th>\n",
              "      <td>OXYGEN TRANSPORT</td>\n",
              "      <td>MVLSEGEWQLVLHVWAKVEADVAGHGQDILIRLFKSHPETLEKFDR...</td>\n",
              "    </tr>\n",
              "    <tr>\n",
              "      <th>102L</th>\n",
              "      <td>HYDROLASE(O-GLYCOSYL)</td>\n",
              "      <td>MNIFEMLRIDEGLRLKIYKDTEGYYTIGIGHLLTKSPSLNAAAKSE...</td>\n",
              "    </tr>\n",
              "    <tr>\n",
              "      <th>102M</th>\n",
              "      <td>OXYGEN TRANSPORT</td>\n",
              "      <td>MVLSEGEWQLVLHVWAKVEADVAGHGQDILIRLFKSHPETLEKFDR...</td>\n",
              "    </tr>\n",
              "    <tr>\n",
              "      <th>103L</th>\n",
              "      <td>HYDROLASE(O-GLYCOSYL)</td>\n",
              "      <td>MNIFEMLRIDEGLRLKIYKDTEGYYTIGIGHLLTKSPSLNSLDAAK...</td>\n",
              "    </tr>\n",
              "    <tr>\n",
              "      <th>103M</th>\n",
              "      <td>OXYGEN TRANSPORT</td>\n",
              "      <td>MVLSEGEWQLVLHVWAKVEADVAGHGQDILIRLFKSHPETLEKFDR...</td>\n",
              "    </tr>\n",
              "  </tbody>\n",
              "</table>\n",
              "</div>"
            ],
            "text/plain": [
              "                    classification                                           sequence\n",
              "structureId                                                                          \n",
              "101M              OXYGEN TRANSPORT  MVLSEGEWQLVLHVWAKVEADVAGHGQDILIRLFKSHPETLEKFDR...\n",
              "102L         HYDROLASE(O-GLYCOSYL)  MNIFEMLRIDEGLRLKIYKDTEGYYTIGIGHLLTKSPSLNAAAKSE...\n",
              "102M              OXYGEN TRANSPORT  MVLSEGEWQLVLHVWAKVEADVAGHGQDILIRLFKSHPETLEKFDR...\n",
              "103L         HYDROLASE(O-GLYCOSYL)  MNIFEMLRIDEGLRLKIYKDTEGYYTIGIGHLLTKSPSLNSLDAAK...\n",
              "103M              OXYGEN TRANSPORT  MVLSEGEWQLVLHVWAKVEADVAGHGQDILIRLFKSHPETLEKFDR..."
            ]
          },
          "metadata": {
            "tags": []
          },
          "execution_count": 13
        }
      ]
    },
    {
      "cell_type": "code",
      "metadata": {
        "colab": {
          "base_uri": "https://localhost:8080/"
        },
        "id": "_Z0_eLNlQhyn",
        "outputId": "1ee2c1b3-e01f-46e6-c91a-d8b519bdf45f"
      },
      "source": [
        "print('%d is the number of rows in the joined dataset' %model_f.shape[0])"
      ],
      "execution_count": 14,
      "outputs": [
        {
          "output_type": "stream",
          "text": [
            "346325 is the number of rows in the joined dataset\n"
          ],
          "name": "stdout"
        }
      ]
    },
    {
      "cell_type": "code",
      "metadata": {
        "colab": {
          "base_uri": "https://localhost:8080/"
        },
        "id": "lf0X8Y-LQqAz",
        "outputId": "d17d91c5-7497-4ba3-bc0c-cc725ac2142b"
      },
      "source": [
        "# Check NA counts\n",
        "model_f.isnull().sum()"
      ],
      "execution_count": 15,
      "outputs": [
        {
          "output_type": "execute_result",
          "data": {
            "text/plain": [
              "classification    1\n",
              "sequence          3\n",
              "dtype: int64"
            ]
          },
          "metadata": {
            "tags": []
          },
          "execution_count": 15
        }
      ]
    },
    {
      "cell_type": "code",
      "metadata": {
        "colab": {
          "base_uri": "https://localhost:8080/"
        },
        "id": "2hCifGywQu0j",
        "outputId": "59ec9a23-68b7-480a-d061-f65194c0f038"
      },
      "source": [
        "# Drop rows with missing values\n",
        "model_f = model_f.dropna()\n",
        "print('%d is the number of proteins that have a classification and sequence' %model_f.shape[0])"
      ],
      "execution_count": 16,
      "outputs": [
        {
          "output_type": "stream",
          "text": [
            "346321 is the number of proteins that have a classification and sequence\n"
          ],
          "name": "stdout"
        }
      ]
    },
    {
      "cell_type": "code",
      "metadata": {
        "colab": {
          "base_uri": "https://localhost:8080/"
        },
        "id": "_N3pnV_CQ04T",
        "outputId": "80ea20df-a902-407e-ee16-b802c675dd92"
      },
      "source": [
        "# Look at classification type counts\n",
        "counts = model_f.classification.value_counts()\n",
        "print(counts)"
      ],
      "execution_count": 17,
      "outputs": [
        {
          "output_type": "stream",
          "text": [
            "HYDROLASE                         46336\n",
            "TRANSFERASE                       36424\n",
            "OXIDOREDUCTASE                    34321\n",
            "IMMUNE SYSTEM                     15615\n",
            "LYASE                             11682\n",
            "                                  ...  \n",
            "IMMUNE SYSTEM, Protein binding        1\n",
            "NAD(P) binding protein                1\n",
            "Oxidoreductase, hydrolase             1\n",
            "FERREDOXIN                            1\n",
            "WILLEBRAND                            1\n",
            "Name: classification, Length: 4468, dtype: int64\n"
          ],
          "name": "stdout"
        }
      ]
    },
    {
      "cell_type": "code",
      "metadata": {
        "colab": {
          "base_uri": "https://localhost:8080/"
        },
        "id": "9L5qy5XOQ77f",
        "outputId": "d92dc0ea-8606-4052-dd1f-d0c1036f87d8"
      },
      "source": [
        "# Get classification types where counts are over 1000\n",
        "types = np.asarray(counts[(counts > 1000)].index)\n",
        "print(len(types))\n",
        "# Filter dataset's records for classification types > 1000\n",
        "data = model_f[model_f.classification.isin(types)]\n",
        "print(types)\n",
        "print('%d is the number of records in the final filtered dataset' %data.shape[0])\n"
      ],
      "execution_count": 18,
      "outputs": [
        {
          "output_type": "stream",
          "text": [
            "43\n",
            "['HYDROLASE' 'TRANSFERASE' 'OXIDOREDUCTASE' 'IMMUNE SYSTEM' 'LYASE'\n",
            " 'HYDROLASE/HYDROLASE INHIBITOR' 'TRANSCRIPTION' 'VIRAL PROTEIN'\n",
            " 'TRANSPORT PROTEIN' 'VIRUS' 'SIGNALING PROTEIN' 'ISOMERASE' 'LIGASE'\n",
            " 'MEMBRANE PROTEIN' 'PROTEIN BINDING' 'STRUCTURAL PROTEIN' 'CHAPERONE'\n",
            " 'STRUCTURAL GENOMICS, UNKNOWN FUNCTION' 'SUGAR BINDING PROTEIN'\n",
            " 'DNA BINDING PROTEIN' 'PHOTOSYNTHESIS' 'ELECTRON TRANSPORT'\n",
            " 'TRANSFERASE/TRANSFERASE INHIBITOR' 'METAL BINDING PROTEIN'\n",
            " 'CELL ADHESION' 'UNKNOWN FUNCTION' 'PROTEIN TRANSPORT' 'TOXIN'\n",
            " 'CELL CYCLE' 'RNA BINDING PROTEIN' 'DE NOVO PROTEIN' 'HORMONE'\n",
            " 'GENE REGULATION' 'OXIDOREDUCTASE/OXIDOREDUCTASE INHIBITOR' 'APOPTOSIS'\n",
            " 'MOTOR PROTEIN' 'PROTEIN FIBRIL' 'METAL TRANSPORT'\n",
            " 'VIRAL PROTEIN/IMMUNE SYSTEM' 'CONTRACTILE PROTEIN' 'FLUORESCENT PROTEIN'\n",
            " 'TRANSLATION' 'BIOSYNTHETIC PROTEIN']\n",
            "278866 is the number of records in the final filtered dataset\n"
          ],
          "name": "stdout"
        }
      ]
    },
    {
      "cell_type": "code",
      "metadata": {
        "id": "KfX2fDBaQ8lS"
      },
      "source": [
        "def char_grams(text,n=3,jump_size=2):\n",
        "    return [text[i:i+n] for i in range(0,len(text)-n+1,jump_size)]\n"
      ],
      "execution_count": 25,
      "outputs": []
    },
    {
      "cell_type": "code",
      "metadata": {
        "colab": {
          "base_uri": "https://localhost:8080/"
        },
        "id": "3a7zn8vaRM_I",
        "outputId": "68c4a927-f989-4664-8127-82af597bba14"
      },
      "source": [
        "data.head(3).sequence.apply(char_grams)"
      ],
      "execution_count": 20,
      "outputs": [
        {
          "output_type": "execute_result",
          "data": {
            "text/plain": [
              "structureId\n",
              "10GS    [PPY, YTV, VVY, YFP, PVR, RGR, RCA, AAL, LRM, ...\n",
              "10GS    [PPY, YTV, VVY, YFP, PVR, RGR, RCA, AAL, LRM, ...\n",
              "117E    [TYT, TTR, RQI, IGA, AKN, NTL, LEY, YKV, VYI, ...\n",
              "Name: sequence, dtype: object"
            ]
          },
          "metadata": {
            "tags": []
          },
          "execution_count": 20
        }
      ]
    },
    {
      "cell_type": "code",
      "metadata": {
        "id": "_GIAdWnBRQes"
      },
      "source": [
        "data[\"3mers\"] = data.sequence.apply(char_grams)"
      ],
      "execution_count": null,
      "outputs": []
    },
    {
      "cell_type": "code",
      "metadata": {
        "colab": {
          "base_uri": "https://localhost:8080/",
          "height": 314
        },
        "id": "NdkI_lkdRTUI",
        "outputId": "39b6dfe9-e0c0-417e-8670-755872b13e2c"
      },
      "source": [
        "data.head()"
      ],
      "execution_count": 22,
      "outputs": [
        {
          "output_type": "execute_result",
          "data": {
            "text/html": [
              "<div>\n",
              "<style scoped>\n",
              "    .dataframe tbody tr th:only-of-type {\n",
              "        vertical-align: middle;\n",
              "    }\n",
              "\n",
              "    .dataframe tbody tr th {\n",
              "        vertical-align: top;\n",
              "    }\n",
              "\n",
              "    .dataframe thead th {\n",
              "        text-align: right;\n",
              "    }\n",
              "</style>\n",
              "<table border=\"1\" class=\"dataframe\">\n",
              "  <thead>\n",
              "    <tr style=\"text-align: right;\">\n",
              "      <th></th>\n",
              "      <th>classification</th>\n",
              "      <th>sequence</th>\n",
              "      <th>3mers</th>\n",
              "    </tr>\n",
              "    <tr>\n",
              "      <th>structureId</th>\n",
              "      <th></th>\n",
              "      <th></th>\n",
              "      <th></th>\n",
              "    </tr>\n",
              "  </thead>\n",
              "  <tbody>\n",
              "    <tr>\n",
              "      <th>10GS</th>\n",
              "      <td>TRANSFERASE/TRANSFERASE INHIBITOR</td>\n",
              "      <td>PPYTVVYFPVRGRCAALRMLLADQGQSWKEEVVTVETWQEGSLKAS...</td>\n",
              "      <td>[PPY, YTV, VVY, YFP, PVR, RGR, RCA, AAL, LRM, ...</td>\n",
              "    </tr>\n",
              "    <tr>\n",
              "      <th>10GS</th>\n",
              "      <td>TRANSFERASE/TRANSFERASE INHIBITOR</td>\n",
              "      <td>PPYTVVYFPVRGRCAALRMLLADQGQSWKEEVVTVETWQEGSLKAS...</td>\n",
              "      <td>[PPY, YTV, VVY, YFP, PVR, RGR, RCA, AAL, LRM, ...</td>\n",
              "    </tr>\n",
              "    <tr>\n",
              "      <th>117E</th>\n",
              "      <td>HYDROLASE</td>\n",
              "      <td>TYTTRQIGAKNTLEYKVYIEKDGKPVSAFHDIPLYADKENNIFNMV...</td>\n",
              "      <td>[TYT, TTR, RQI, IGA, AKN, NTL, LEY, YKV, VYI, ...</td>\n",
              "    </tr>\n",
              "    <tr>\n",
              "      <th>117E</th>\n",
              "      <td>HYDROLASE</td>\n",
              "      <td>TYTTRQIGAKNTLEYKVYIEKDGKPVSAFHDIPLYADKENNIFNMV...</td>\n",
              "      <td>[TYT, TTR, RQI, IGA, AKN, NTL, LEY, YKV, VYI, ...</td>\n",
              "    </tr>\n",
              "    <tr>\n",
              "      <th>11AS</th>\n",
              "      <td>LIGASE</td>\n",
              "      <td>MKTAYIAKQRQISFVKSHFSRQLEERLGLIEVQAPILSRVGDGTQD...</td>\n",
              "      <td>[MKT, TAY, YIA, AKQ, QRQ, QIS, SFV, VKS, SHF, ...</td>\n",
              "    </tr>\n",
              "  </tbody>\n",
              "</table>\n",
              "</div>"
            ],
            "text/plain": [
              "                                classification  ...                                              3mers\n",
              "structureId                                     ...                                                   \n",
              "10GS         TRANSFERASE/TRANSFERASE INHIBITOR  ...  [PPY, YTV, VVY, YFP, PVR, RGR, RCA, AAL, LRM, ...\n",
              "10GS         TRANSFERASE/TRANSFERASE INHIBITOR  ...  [PPY, YTV, VVY, YFP, PVR, RGR, RCA, AAL, LRM, ...\n",
              "117E                                 HYDROLASE  ...  [TYT, TTR, RQI, IGA, AKN, NTL, LEY, YKV, VYI, ...\n",
              "117E                                 HYDROLASE  ...  [TYT, TTR, RQI, IGA, AKN, NTL, LEY, YKV, VYI, ...\n",
              "11AS                                    LIGASE  ...  [MKT, TAY, YIA, AKQ, QRQ, QIS, SFV, VKS, SHF, ...\n",
              "\n",
              "[5 rows x 3 columns]"
            ]
          },
          "metadata": {
            "tags": []
          },
          "execution_count": 22
        }
      ]
    },
    {
      "cell_type": "code",
      "metadata": {
        "colab": {
          "base_uri": "https://localhost:8080/"
        },
        "id": "vMQwKRd1RXzT",
        "outputId": "233d6ee1-18b2-4e8c-b252-536a75e0f321"
      },
      "source": [
        "# Train Test Split\n",
        "\n",
        "# Split Data\n",
        "X_train, X_test,y_train,y_test = train_test_split(data['sequence'], data['classification'], test_size = 0.2, random_state = 1)\n",
        "\n",
        "# Create a Count Vectorizer to gather the unique elements in sequence\n",
        "vect = CountVectorizer(analyzer = 'char_wb', ngram_range = (4,4))\n",
        "\n",
        "# Fit and Transform CountVectorizer\n",
        "vect.fit(X_train)\n",
        "X_train_df = vect.transform(X_train)\n",
        "X_test_df = vect.transform(X_test)\n",
        "\n",
        "#Print a few of the features\n",
        "print(vect.get_feature_names()[-20:])"
      ],
      "execution_count": 23,
      "outputs": [
        {
          "output_type": "stream",
          "text": [
            "['zhhh', 'ziar', 'zigi', 'ziwz', 'zkal', 'zkky', 'zknt', 'zkyh', 'zlik', 'zlzk', 'zpvm', 'zrgd', 'zrvi', 'ztvl', 'ztzk', 'zvbd', 'zvib', 'zvka', 'zwdl', 'zzvb']\n"
          ],
          "name": "stdout"
        }
      ]
    },
    {
      "cell_type": "code",
      "metadata": {
        "colab": {
          "base_uri": "https://localhost:8080/"
        },
        "id": "QwkJPp0QRf6x",
        "outputId": "ddf75252-457a-403b-ccc6-7b1ac5418654"
      },
      "source": [
        "# Machine Learning Models\n",
        "\n",
        "# Make a prediction dictionary to store accuracys\n",
        "prediction = dict()\n",
        "\n",
        "# Naive Bayes Model\n",
        "from sklearn.naive_bayes import MultinomialNB\n",
        "model = MultinomialNB()\n",
        "model.fit(X_train_df, y_train)\n",
        "NB_pred = model.predict(X_test_df)\n",
        "prediction[\"MultinomialNB\"] = accuracy_score(NB_pred, y_test)\n",
        "print( prediction['MultinomialNB'])"
      ],
      "execution_count": 24,
      "outputs": [
        {
          "output_type": "stream",
          "text": [
            "0.7638505396779861\n"
          ],
          "name": "stdout"
        }
      ]
    },
    {
      "cell_type": "code",
      "metadata": {
        "colab": {
          "base_uri": "https://localhost:8080/",
          "height": 500
        },
        "id": "wIO_6QnwRlxF",
        "outputId": "c747db75-167e-4edd-9775-73d8de7de21a"
      },
      "source": [
        "#Plot Confusion Matrix for NB\n",
        "\n",
        "# Plot confusion matrix\n",
        "conf_mat = confusion_matrix(y_test, NB_pred, labels = types)\n",
        "\n",
        "#Normalize confusion_matrix\n",
        "conf_mat = conf_mat.astype('float')/ conf_mat.sum(axis=1)[:, np.newaxis]\n",
        "\n",
        "# Plot Heat Map\n",
        "fig , ax = plt.subplots()\n",
        "fig.set_size_inches(13, 8)\n",
        "sns.heatmap(conf_mat)"
      ],
      "execution_count": null,
      "outputs": [
        {
          "output_type": "execute_result",
          "data": {
            "text/plain": [
              "<matplotlib.axes._subplots.AxesSubplot at 0x7facc0ccb0d0>"
            ]
          },
          "metadata": {
            "tags": []
          },
          "execution_count": 61
        },
        {
          "output_type": "display_data",
          "data": {
            "image/png": "[encoded data removed]",
            "text/plain": [
              "<Figure size 936x576 with 2 Axes>"
            ]
          },
          "metadata": {
            "tags": [],
            "needs_background": "light"
          }
        }
      ]
    },
    {
      "cell_type": "code",
      "metadata": {
        "colab": {
          "base_uri": "https://localhost:8080/"
        },
        "id": "yPwdaEXWRn6S",
        "outputId": "0c33b913-6c47-4821-ba4c-cbf7fbc87d17"
      },
      "source": [
        "print(types[3])\n",
        "print(types[38])"
      ],
      "execution_count": null,
      "outputs": [
        {
          "output_type": "stream",
          "text": [
            "IMMUNE SYSTEM\n",
            "VIRAL PROTEIN/IMMUNE SYSTEM\n"
          ],
          "name": "stdout"
        }
      ]
    },
    {
      "cell_type": "code",
      "metadata": {
        "colab": {
          "base_uri": "https://localhost:8080/"
        },
        "id": "g0e0ZClbRwlX",
        "outputId": "44fd328f-7a94-4f58-d8a7-36b51e6f7a26"
      },
      "source": [
        "#Print F1 score metrics\n",
        "print(classification_report(y_test, NB_pred, target_names = types))"
      ],
      "execution_count": null,
      "outputs": [
        {
          "output_type": "stream",
          "text": [
            "                                         precision    recall  f1-score   support\n",
            "\n",
            "                              HYDROLASE       0.47      0.74      0.57       250\n",
            "                            TRANSFERASE       0.60      0.82      0.70       211\n",
            "                         OXIDOREDUCTASE       0.75      0.77      0.76       589\n",
            "                          IMMUNE SYSTEM       0.66      0.72      0.69       509\n",
            "                                  LYASE       0.91      0.76      0.83       859\n",
            "          HYDROLASE/HYDROLASE INHIBITOR       0.66      0.88      0.76       224\n",
            "                          TRANSCRIPTION       0.58      0.83      0.68       326\n",
            "                          VIRAL PROTEIN       0.71      0.78      0.75       622\n",
            "                      TRANSPORT PROTEIN       0.60      0.74      0.66       601\n",
            "                                  VIRUS       0.91      0.97      0.94       209\n",
            "                      SIGNALING PROTEIN       0.71      0.73      0.72       309\n",
            "                              ISOMERASE       0.49      0.96      0.65       293\n",
            "                                 LIGASE       0.77      0.78      0.77      9274\n",
            "                       MEMBRANE PROTEIN       0.67      0.76      0.71      2228\n",
            "                        PROTEIN BINDING       0.87      0.76      0.82      3204\n",
            "                     STRUCTURAL PROTEIN       0.94      0.86      0.90      1312\n",
            "                              CHAPERONE       0.87      0.80      0.84       963\n",
            "  STRUCTURAL GENOMICS, UNKNOWN FUNCTION       0.94      0.87      0.90      2324\n",
            "                  SUGAR BINDING PROTEIN       0.68      0.66      0.67       991\n",
            "                    DNA BINDING PROTEIN       0.70      0.72      0.71       607\n",
            "                         PHOTOSYNTHESIS       0.62      0.78      0.69       237\n",
            "                     ELECTRON TRANSPORT       0.52      0.59      0.55       251\n",
            "      TRANSFERASE/TRANSFERASE INHIBITOR       0.93      0.79      0.85      6895\n",
            "                  METAL BINDING PROTEIN       0.37      0.91      0.53       308\n",
            "                          CELL ADHESION       0.81      0.87      0.84       686\n",
            "                       UNKNOWN FUNCTION       0.53      0.59      0.56       953\n",
            "                      PROTEIN TRANSPORT       0.81      0.94      0.87       269\n",
            "                                  TOXIN       0.73      0.70      0.71       526\n",
            "                             CELL CYCLE       0.64      0.81      0.72       396\n",
            "                    RNA BINDING PROTEIN       0.76      0.62      0.68      1284\n",
            "                        DE NOVO PROTEIN       0.48      0.76      0.59       710\n",
            "                                HORMONE       0.86      0.57      0.69       884\n",
            "                        GENE REGULATION       0.84      0.89      0.86       690\n",
            "OXIDOREDUCTASE/OXIDOREDUCTASE INHIBITOR       0.79      0.81      0.80       541\n",
            "                              APOPTOSIS       0.81      0.70      0.75      1652\n",
            "                          MOTOR PROTEIN       0.78      0.77      0.77      7262\n",
            "                         PROTEIN FIBRIL       0.35      0.83      0.49       614\n",
            "                        METAL TRANSPORT       0.69      0.79      0.73       209\n",
            "            VIRAL PROTEIN/IMMUNE SYSTEM       0.82      0.59      0.69      1641\n",
            "                    CONTRACTILE PROTEIN       0.73      0.73      0.73       583\n",
            "                    FLUORESCENT PROTEIN       0.86      0.66      0.74      1703\n",
            "                            TRANSLATION       0.41      0.54      0.46       224\n",
            "                   BIOSYNTHETIC PROTEIN       0.87      0.86      0.86      1351\n",
            "\n",
            "                               accuracy                           0.76     55774\n",
            "                              macro avg       0.71      0.77      0.73     55774\n",
            "                           weighted avg       0.79      0.76      0.77     55774\n",
            "\n"
          ],
          "name": "stdout"
        }
      ]
    }
  ]
}